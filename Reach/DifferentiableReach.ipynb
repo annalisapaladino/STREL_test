{
  "nbformat": 4,
  "nbformat_minor": 0,
  "metadata": {
    "colab": {
      "provenance": []
    },
    "kernelspec": {
      "name": "python3",
      "display_name": "Python 3"
    },
    "language_info": {
      "name": "python"
    }
  },
  "cells": [
    {
      "cell_type": "code",
      "execution_count": null,
      "metadata": {
        "id": "jkxOQHVnjZZR"
      },
      "outputs": [],
      "source": [
        "import torch\n",
        "import torch.nn as nn"
      ]
    },
    {
      "cell_type": "code",
      "source": [
        "class DiffReach():\n",
        "    \"\"\"\n",
        "    Reachability operator for STREL. Models bounded or unbounded reach\n",
        "    over a spatial graph.\n",
        "    \"\"\"\n",
        "    def __init__(\n",
        "        self,\n",
        "        adjacency_matrix,\n",
        "        d1,\n",
        "        d2,\n",
        "        graph_nodes,\n",
        "        is_unbounded: bool = False,\n",
        "        distance_domain_min=None,\n",
        "        distance_domain_max=None,\n",
        "    ) -> None:\n",
        "        super().__init__()\n",
        "        self.d1 = d1\n",
        "        self.d2 = d2\n",
        "        self.is_unbounded = is_unbounded\n",
        "        self.distance_domain_min = distance_domain_min\n",
        "        self.distance_domain_max = distance_domain_max\n",
        "        self.adjacency_matrix = adjacency_matrix\n",
        "        self.graph_nodes = graph_nodes\n",
        "\n",
        "    def __call__(self, s1, s2):\n",
        "        return self._boolean(s1, s2)\n",
        "\n",
        "    def __str__(self) -> str:\n",
        "        bound_type = \"unbounded\" if self.is_unbounded else f\"[{self.d1},{self.d2}]\"\n",
        "        return f\"Reach{bound_type}\"\n",
        "\n",
        "    def time_depth(self) -> int:\n",
        "        return 0\n",
        "\n",
        "    def neighbors_fn(self, node):\n",
        "        aa = (self.adjacency_matrix[:, node] > 0)\n",
        "        neigh = self.graph_nodes[aa]\n",
        "        neigh_pairs = [(i.item(), self.adjacency_matrix[i, node].item()) for i in neigh]\n",
        "        print('node = ', node, ' has neigh_pairs = ', neigh_pairs)\n",
        "        return neigh_pairs\n",
        "\n",
        "    def distance_function(self, weight):\n",
        "        return weight\n",
        "\n",
        "    def _boolean(self, s1, s2):\n",
        "        return self._bounded_reach(s1, s2)\n",
        "\n",
        "    def _bounded_reach(self, s1, s2):\n",
        "        # Initialize s with requires_grad=True\n",
        "        s = torch.zeros(len(self.graph_nodes), requires_grad=True)\n",
        "\n",
        "        # Set initial values without breaking the graph\n",
        "        for i, lt in enumerate(self.graph_nodes):\n",
        "            l = lt.item()\n",
        "            if self.d1 == self.distance_domain_min:\n",
        "                s = s.clone().scatter_(0, torch.tensor([l]), s2[l])\n",
        "                #print('i: ', i, 'l: ', l, 's = ', s)\n",
        "            else:\n",
        "                s = s.clone().scatter_(0, torch.tensor([l]), self.distance_domain_min)\n",
        "\n",
        "        Q = {llt.item(): [(s2[llt.item()], self.distance_domain_min)] for llt in self.graph_nodes}\n",
        "\n",
        "        while Q:\n",
        "            print('Q = ', Q)\n",
        "            Q_prime = {}\n",
        "            for l in Q.keys():\n",
        "                print('l = ', l)\n",
        "                for v, d in Q[l]:\n",
        "                    for l_prime, w in self.neighbors_fn(l):\n",
        "                        print(f'neigh of {l}: {l_prime}')\n",
        "                        v_new = torch.minimum(v, s1[l_prime])\n",
        "                        d_new = d + w\n",
        "\n",
        "                        if self.d1 <= d_new <= self.d2:\n",
        "                            current_val = s[l_prime]\n",
        "                            new_val = torch.maximum(current_val, v_new)\n",
        "                            # Use scatter_ to preserve differentiability\n",
        "                            s = s.clone().scatter_(0, torch.tensor([l_prime]), new_val)\n",
        "                            print('s = ', s)\n",
        "\n",
        "                        if d_new < self.d2:\n",
        "                            #if l_prime not in Q_prime:\n",
        "                            #    Q_prime[l_prime] = []\n",
        "\n",
        "                            # Create new list with updated values\n",
        "                            existing_entries = Q_prime.get(l_prime, [])\n",
        "                            updated = False\n",
        "                            new_entries = []\n",
        "                            for vv, dd in existing_entries:\n",
        "                                if dd == d_new:\n",
        "                                    new_v = torch.maximum(vv, v_new)\n",
        "                                    new_entries.append((new_v, dd))\n",
        "                                    updated = True\n",
        "                                else:\n",
        "                                    new_entries.append((vv, dd))\n",
        "\n",
        "                            if not updated:\n",
        "                                new_entries.append((v_new, d_new))\n",
        "                            Q_prime[l_prime] = new_entries\n",
        "            print('Q_prime = ', Q_prime)\n",
        "            Q = Q_prime\n",
        "        return s\n",
        "\n",
        "    def _unbounded_reach(self, s1, s2):\n",
        "        s = torch.zeros(len(self.graph_nodes), requires_grad=True)\n",
        "        return s\n",
        "\n",
        "    def _quantitative(self, s1, s2):\n",
        "        return self._bounded_reach(s1, s2)"
      ],
      "metadata": {
        "id": "FgwnX3twjbhP"
      },
      "execution_count": null,
      "outputs": []
    },
    {
      "cell_type": "code",
      "source": [
        "graph_nodes = torch.arange(5)\n",
        "adjacency_matrix = torch.zeros((5,5))\n",
        "\n",
        "adjacency_matrix[0,1] = 1\n",
        "adjacency_matrix[0,2] = 1\n",
        "adjacency_matrix[1,3] = 1\n",
        "adjacency_matrix[2,3] = 1\n",
        "adjacency_matrix[2,4] = 1\n",
        "\n",
        "s1 = torch.tensor([0.,0,1.,0,0],requires_grad=True)\n",
        "s2 = torch.tensor([0.,0.,0.,0.,1.],requires_grad=True)\n",
        "\n",
        "reach = DiffReach(adjacency_matrix=adjacency_matrix,\n",
        "        d1=0,\n",
        "        d2=2,\n",
        "        graph_nodes=graph_nodes,\n",
        "        distance_domain_min=0,\n",
        "        distance_domain_max=100)"
      ],
      "metadata": {
        "id": "K4eXujYvjdh2"
      },
      "execution_count": null,
      "outputs": []
    },
    {
      "cell_type": "code",
      "source": [
        "print('sat = ', reach._boolean(s1,s2))"
      ],
      "metadata": {
        "colab": {
          "base_uri": "https://localhost:8080/"
        },
        "id": "EJqFRnOzjg6a",
        "outputId": "4e539d69-feff-43cc-a250-c0cc840974d4"
      },
      "execution_count": null,
      "outputs": [
        {
          "output_type": "stream",
          "name": "stdout",
          "text": [
            "Q =  {0: [(tensor(0., grad_fn=<SelectBackward0>), 0)], 1: [(tensor(0., grad_fn=<SelectBackward0>), 0)], 2: [(tensor(0., grad_fn=<SelectBackward0>), 0)], 3: [(tensor(0., grad_fn=<SelectBackward0>), 0)], 4: [(tensor(1., grad_fn=<SelectBackward0>), 0)]}\n",
            "l =  0\n",
            "node =  0  has neigh_pairs =  []\n",
            "l =  1\n",
            "node =  1  has neigh_pairs =  [(0, 1.0)]\n",
            "neigh of 1: 0\n",
            "s =  tensor([0., 0., 0., 0., 1.], grad_fn=<ScatterBackward0>)\n",
            "l =  2\n",
            "node =  2  has neigh_pairs =  [(0, 1.0)]\n",
            "neigh of 2: 0\n",
            "s =  tensor([0., 0., 0., 0., 1.], grad_fn=<ScatterBackward0>)\n",
            "l =  3\n",
            "node =  3  has neigh_pairs =  [(1, 1.0), (2, 1.0)]\n",
            "neigh of 3: 1\n",
            "s =  tensor([0., 0., 0., 0., 1.], grad_fn=<ScatterBackward0>)\n",
            "neigh of 3: 2\n",
            "s =  tensor([0., 0., 0., 0., 1.], grad_fn=<ScatterBackward0>)\n",
            "l =  4\n",
            "node =  4  has neigh_pairs =  [(2, 1.0)]\n",
            "neigh of 4: 2\n",
            "s =  tensor([0., 0., 1., 0., 1.], grad_fn=<ScatterBackward0>)\n",
            "Q_prime =  {0: [(tensor(0., grad_fn=<MaximumBackward0>), 1.0)], 1: [(tensor(0., grad_fn=<MinimumBackward0>), 1.0)], 2: [(tensor(1., grad_fn=<MaximumBackward0>), 1.0)]}\n",
            "Q =  {0: [(tensor(0., grad_fn=<MaximumBackward0>), 1.0)], 1: [(tensor(0., grad_fn=<MinimumBackward0>), 1.0)], 2: [(tensor(1., grad_fn=<MaximumBackward0>), 1.0)]}\n",
            "l =  0\n",
            "node =  0  has neigh_pairs =  []\n",
            "l =  1\n",
            "node =  1  has neigh_pairs =  [(0, 1.0)]\n",
            "neigh of 1: 0\n",
            "s =  tensor([0., 0., 1., 0., 1.], grad_fn=<ScatterBackward0>)\n",
            "l =  2\n",
            "node =  2  has neigh_pairs =  [(0, 1.0)]\n",
            "neigh of 2: 0\n",
            "s =  tensor([0., 0., 1., 0., 1.], grad_fn=<ScatterBackward0>)\n",
            "Q_prime =  {}\n",
            "sat =  tensor([0., 0., 1., 0., 1.], grad_fn=<ScatterBackward0>)\n"
          ]
        }
      ]
    },
    {
      "cell_type": "code",
      "source": [],
      "metadata": {
        "id": "EkyT_RiNjhW-"
      },
      "execution_count": null,
      "outputs": []
    }
  ]
}